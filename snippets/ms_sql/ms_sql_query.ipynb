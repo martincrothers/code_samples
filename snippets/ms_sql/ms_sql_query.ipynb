{
 "cells": [
  {
   "cell_type": "markdown",
   "metadata": {},
   "source": []
  },
  {
   "cell_type": "code",
   "execution_count": null,
   "metadata": {},
   "outputs": [],
   "source": [
    "\"\"\"\n",
    "\tThis file demonstrates performing a SQL query, and then converting that\n",
    "\tresponse into a Pandas DataFrame.\n",
    "\"\"\"\n",
    "\n",
    "import pymssql\n",
    "import pandas\n",
    "from IPython.display import display\n",
    "\n",
    "#\tBuild connection data for SQL\n",
    "user = r'lab\\martin'\n",
    "password = r'P@ssw0rd'\n",
    "host = r'oriondb\\orionprod'\n",
    "database = 'SolarWindsOrion'\n",
    "\n",
    "connection = pymssql.connect(\n",
    "    user=user,\n",
    "    password=password,\n",
    "\thost=host,\n",
    "    database=database\n",
    ")\n",
    "\n",
    "#\tQuery to execute\n",
    "query = \"SELECT TOP 2 [NodeID], [Caption], [IP_Address] FROM [{}].[dbo].[NodesData]\".format(database)\n",
    "\n",
    "cursor = connection.cursor()\n",
    "cursor.execute(query)\n",
    "data = cursor.fetchall()\n",
    "df = pandas.DataFrame(data)\n",
    "\n",
    "connection.close()\n",
    "\n",
    "#\tDo stuff with the data\n",
    "display(df)\n",
    "\n"
   ]
  }
 ],
 "metadata": {
  "kernelspec": {
   "display_name": "Python 3.10.4 64-bit",
   "language": "python",
   "name": "python3"
  },
  "language_info": {
   "name": "python",
   "version": "3.10.4"
  },
  "orig_nbformat": 4,
  "vscode": {
   "interpreter": {
    "hash": "e952b970a539d295d424d2e8536f53df315b978b70bdc878ea1c726b2f12b457"
   }
  }
 },
 "nbformat": 4,
 "nbformat_minor": 2
}

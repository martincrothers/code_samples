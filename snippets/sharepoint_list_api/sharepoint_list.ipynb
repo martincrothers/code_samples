{
 "cells": [
  {
   "cell_type": "code",
   "execution_count": 3,
   "metadata": {},
   "outputs": [
    {
     "name": "stdout",
     "output_type": "stream",
     "text": [
      "https://sharepoint.lab.martincrothers.com/ExampleSite/_api/Web/Lists/GetByTitle('SupportTeamContacts')/items?$select=Title,email_address,incident_queue&$filter=(Title eq 'Network Team')\n"
     ]
    },
    {
     "data": {
      "text/plain": [
       "\"\\n\\tThis will output the value of the 'email_address' column where 'Title' = 'Network Team'.\\n\""
      ]
     },
     "execution_count": 3,
     "metadata": {},
     "output_type": "execute_result"
    }
   ],
   "source": [
    "import requests\n",
    "import yaml\n",
    "from requests_ntlm2 import HttpNtlmAuth\n",
    "\n",
    "\n",
    "#\tLoad details from the YAML file\n",
    "with open('sharepoint_list_details.yaml', 'r') as file:\n",
    "\tsharepoint_variables = yaml.safe_load(file)\n",
    "\n",
    "sharepoint_base_url_python = sharepoint_variables['sharepoint_base_url_python']\n",
    "sharepoint_list_name = sharepoint_variables['sharepoint_list_name']\n",
    "sharepoint_list_query = sharepoint_variables['sharepoint_list_query']\n",
    "\n",
    "#\tAssemble the full URL from those details\n",
    "url = sharepoint_base_url_python.format(sharepoint_list_name) + sharepoint_list_query\n",
    "# This creates the url: https://sharepoint.lab.martincrothers.com/ExampleSite/_api/Web/Lists/GetByTitle('SupportTeamContacts')/items?$select=Title,email_address,incident_queue&$filter=(Title eq 'Network Team')\n",
    "\n",
    "\n",
    "#\tDisable console warnings for SSL verification\n",
    "requests.packages.urllib3.disable_warnings()\n",
    "\n",
    "#\tCreate the NTML authentication for OnPrem SharePoint\n",
    "auth = HttpNtlmAuth('domain\\\\user', 'password')\n",
    "\n",
    "headers = {'Accept': 'application/json;odata=verbose'}\n",
    "response = requests.get(url, headers=headers, verify=False, auth=auth)\n",
    "json = response.json()\n",
    "\n",
    "#\tThis will output the value of the 'email_address' column where 'Title' = 'Network Team'.\n",
    "print(json['d']['results'][0]['email_address'])"
   ]
  }
 ],
 "metadata": {
  "kernelspec": {
   "display_name": "Python 3.10.4 64-bit",
   "language": "python",
   "name": "python3"
  },
  "language_info": {
   "codemirror_mode": {
    "name": "ipython",
    "version": 3
   },
   "file_extension": ".py",
   "mimetype": "text/x-python",
   "name": "python",
   "nbconvert_exporter": "python",
   "pygments_lexer": "ipython3",
   "version": "3.10.4"
  },
  "orig_nbformat": 4,
  "vscode": {
   "interpreter": {
    "hash": "e952b970a539d295d424d2e8536f53df315b978b70bdc878ea1c726b2f12b457"
   }
  }
 },
 "nbformat": 4,
 "nbformat_minor": 2
}

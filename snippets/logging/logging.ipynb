{
 "cells": [
  {
   "cell_type": "code",
   "execution_count": 1,
   "metadata": {},
   "outputs": [
    {
     "name": "stdout",
     "output_type": "stream",
     "text": [
      "Can't divide by zero.\n"
     ]
    }
   ],
   "source": [
    "import logging\n",
    "\n",
    "\n",
    "try:\n",
    "\t0 / 0\n",
    "except:\n",
    "\tprint(\"Can't divide by zero.\")"
   ]
  }
 ],
 "metadata": {
  "interpreter": {
   "hash": "e952b970a539d295d424d2e8536f53df315b978b70bdc878ea1c726b2f12b457"
  },
  "kernelspec": {
   "display_name": "Python 3.10.4 64-bit",
   "language": "python",
   "name": "python3"
  },
  "language_info": {
   "codemirror_mode": {
    "name": "ipython",
    "version": 3
   },
   "file_extension": ".py",
   "mimetype": "text/x-python",
   "name": "python",
   "nbconvert_exporter": "python",
   "pygments_lexer": "ipython3",
   "version": "3.10.4"
  },
  "orig_nbformat": 4
 },
 "nbformat": 4,
 "nbformat_minor": 2
}

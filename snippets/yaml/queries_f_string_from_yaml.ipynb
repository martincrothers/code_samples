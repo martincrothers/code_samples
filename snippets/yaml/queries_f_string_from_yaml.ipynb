{
 "cells": [
  {
   "cell_type": "code",
   "execution_count": 7,
   "metadata": {},
   "outputs": [
    {
     "name": "stdout",
     "output_type": "stream",
     "text": [
      "SELECT TOP (10)\n",
      "[IP_Address]\n",
      ",[Caption]\n",
      "FROM [SolarWindsOrion].[dbo].[NodesData]\n",
      "/*\n",
      "  Arguments:\n",
      "  SolarWindsOrion = Database Name\n",
      "*/\n"
     ]
    }
   ],
   "source": [
    "import yaml\n",
    "with open('sql_queries.yaml', 'r') as file:\n",
    "\tfile_yaml = yaml.safe_load(file)\n",
    "\n",
    "#\tThe variable to insert into the query extracted from the YAML file\n",
    "database_name = 'SolarWindsOrion'\n",
    "\n",
    "#\tConstruction\n",
    "con_test = (file_yaml['sql_connection_test']['python']).format(database_name=database_name)\n",
    "\n",
    "#\tDisplay the results\n",
    "print(con_test)"
   ]
  },
  {
   "cell_type": "code",
   "execution_count": 9,
   "metadata": {},
   "outputs": [
    {
     "name": "stdout",
     "output_type": "stream",
     "text": [
      "UPDATE [SolarWindsOrion].[dbo].[DeviceStudio_PollerAssignments]\n",
      "SET [Enabled] = 1\n",
      "WHERE [ID] IN (\n",
      "  SELECT PA.ID\n",
      "  FROM [SolarWindsOrion].[dbo].[DeviceStudio_PollerAssignments] PA\n",
      "  INNER JOIN [SolarWindsOrion].[dbo].[DeviceStudio_Pollers] P\n",
      "  ON PA.PollerID = P.PollerID\n",
      "  WHERE P.Name = 'NodeDetailsLinux' AND PA.NetObjectType = 'N' AND PA.NetObjectID = 1234\n",
      ");\n",
      "/*\n",
      "  Arguments:\n",
      "  SolarWindsOrion = Database Name for NPM Database\n",
      "  1 = 0 or 1: True/False for [Enabled] (Can be NULL)\n",
      "  NodeDetailsLinux = Name of poller template\n",
      "  1234 = NodeID\n",
      "*/\n"
     ]
    }
   ],
   "source": [
    "import yaml\n",
    "with open('sql_queries.yaml', 'r') as file:\n",
    "\tfile_yaml = yaml.safe_load(file)\n",
    "\n",
    "#\tThe variables to insert into the query extracted from the YAML file\n",
    "database_name = 'SolarWindsOrion'\n",
    "enabled = 1\n",
    "device_studio_poller_template = 'NodeDetailsLinux'\n",
    "node_id = 1234\n",
    "\n",
    "#\tConstruction\n",
    "device_studio_poller_query = (file_yaml['poller_assignment']['python']).format(database_name=database_name, enabled=enabled,device_studio_poller_template=device_studio_poller_template,node_id=node_id)\n",
    "\n",
    "#\tDisplay the results\n",
    "print(device_studio_poller_query)"
   ]
  }
 ],
 "metadata": {
  "interpreter": {
   "hash": "e952b970a539d295d424d2e8536f53df315b978b70bdc878ea1c726b2f12b457"
  },
  "kernelspec": {
   "display_name": "Python 3.10.4 64-bit",
   "language": "python",
   "name": "python3"
  },
  "language_info": {
   "codemirror_mode": {
    "name": "ipython",
    "version": 3
   },
   "file_extension": ".py",
   "mimetype": "text/x-python",
   "name": "python",
   "nbconvert_exporter": "python",
   "pygments_lexer": "ipython3",
   "version": "3.10.4"
  },
  "orig_nbformat": 4
 },
 "nbformat": 4,
 "nbformat_minor": 2
}

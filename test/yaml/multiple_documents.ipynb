{
 "cells": [
  {
   "cell_type": "code",
   "execution_count": 2,
   "metadata": {},
   "outputs": [
    {
     "name": "stdout",
     "output_type": "stream",
     "text": [
      "[{'fruits': ['Apple', 'Watermellon', 'Cherry'], 'vegetables': ['Green Bean', 'Spinach']}, {'vehicles': ['truck', 'van', 'airplane'], 'fuels': ['diesel', 'gasoline']}]\n"
     ]
    }
   ],
   "source": [
    "import yaml\n",
    "from yaml.loader import SafeLoader\n",
    "with open('multiple_documents.yaml', 'r') as file:\n",
    "\tfile_yaml = list(yaml.load_all(file, Loader=SafeLoader))\n",
    "\n",
    "print(file_yaml)"
   ]
  }
 ],
 "metadata": {
  "interpreter": {
   "hash": "e952b970a539d295d424d2e8536f53df315b978b70bdc878ea1c726b2f12b457"
  },
  "kernelspec": {
   "display_name": "Python 3.10.4 64-bit",
   "language": "python",
   "name": "python3"
  },
  "language_info": {
   "codemirror_mode": {
    "name": "ipython",
    "version": 3
   },
   "file_extension": ".py",
   "mimetype": "text/x-python",
   "name": "python",
   "nbconvert_exporter": "python",
   "pygments_lexer": "ipython3",
   "version": "3.10.4"
  },
  "orig_nbformat": 4
 },
 "nbformat": 4,
 "nbformat_minor": 2
}
